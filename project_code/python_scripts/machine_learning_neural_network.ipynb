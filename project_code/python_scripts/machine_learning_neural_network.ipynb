{
 "cells": [
  {
   "cell_type": "code",
   "execution_count": null,
   "id": "initial_id",
   "metadata": {
    "collapsed": true
   },
   "outputs": [],
   "source": [
    "model = keras.Sequential([\n",
    "        layers.Input(shape=(input_shape,)),\n",
    "        layers.BatchNormalization(),\n",
    "        layers.Dense(256, activation='relu',\n",
    "                     kernel_regularizer=tf.keras.regularizers.l1_l2(l1=0.001, l2=0.001)),\n",
    "        layers.Dropout(0.4),\n",
    "        layers.Dense(128, activation='relu',\n",
    "                     kernel_regularizer=tf.keras.regularizers.l1_l2(l1=0.001, l2=0.001)),\n",
    "        layers.Dropout(0.3),\n",
    "        layers.Dense(64, activation='relu'),\n",
    "        layers.Dense(1, activation='linear')\n",
    "    ])\n",
    "\n",
    "model.compile(\n",
    "    optimizer=tf.keras.optimizers.Adam(learning_rate=0.0001),\n",
    "    loss='mse',\n",
    "    metrics=['mae', tf.keras.metrics.R2Score()]\n",
    ")\n",
    "early_stopping = tf.keras.callbacks.EarlyStopping(\n",
    "    monitor='val_loss',\n",
    "    patience=10,\n",
    "    restore_best_weights=True\n",
    ")\n",
    "\n",
    "model_checkpoint = tf.keras.callbacks.ModelCheckpoint(\n",
    "    'my_model.keras',\n",
    "    monitor='val_loss',\n",
    "    save_best_only=True\n",
    ")"
   ]
  },
  {
   "metadata": {},
   "cell_type": "code",
   "outputs": [],
   "execution_count": null,
   "source": [
    "from sklearn.preprocessing import StandardScaler\n",
    "import numpy as np\n",
    "from sklearn.model_selection import KFold\n",
    "\n",
    "# K-Fold Cross-Validation\n",
    "def cross_validate_model(X, y, input_shape, n_splits=5):\n",
    "    # Convert to numpy arrays to ensure indexing works\n",
    "    X = np.array(X)\n",
    "    y = np.array(y)\n",
    "\n",
    "    kfold = KFold(n_splits=n_splits, shuffle=True, random_state=42)\n",
    "    cv_scores = []\n",
    "\n",
    "    for train_index, val_index in kfold.split(X):\n",
    "        X_train, X_val = X[train_index], X[val_index]\n",
    "        y_train, y_val = y[train_index], y[val_index]\n",
    "\n",
    "        history = model.fit(\n",
    "            X_train, y_train,\n",
    "            validation_data=(X_val, y_val),\n",
    "            epochs=100,\n",
    "            batch_size=32,\n",
    "            callbacks=[early_stopping, model_checkpoint],\n",
    "            verbose=1\n",
    "        )\n",
    "\n",
    "        val_r2 = model.evaluate(X_val, y_val)[2]  # R2 score index\n",
    "        cv_scores.append(val_r2)\n",
    "\n",
    "    return np.mean(cv_scores), np.std(cv_scores)\n",
    "mean_cv_score, std_cv_score = cross_validate_model(X_train, y_train, input_shape)\n",
    "print(f\"Cross-Validation R2: {mean_cv_score:.4f} ± {std_cv_score:.4f}\")\n"
   ],
   "id": "ffef28fd825a5949"
  },
  {
   "metadata": {},
   "cell_type": "code",
   "outputs": [],
   "execution_count": null,
   "source": [
    "X_test_np = np.array(X_test)\n",
    "y_test_np = np.array(y_test)\n",
    "model.evaluate(X_test_np, y_test_np)\n",
    "#print(f\"Test Loss: {loss:.4f}\")\n",
    "#print(f\"Test MAE: {mae:.4f}\")\n",
    "#print(f\"Test r_score: {r_score:.4f}\")\n"
   ],
   "id": "d3cc7e6ee21ff009"
  },
  {
   "metadata": {},
   "cell_type": "code",
   "outputs": [],
   "execution_count": null,
   "source": [
    "predictions = []\n",
    "for current in X_test:\n",
    "    reshape_current = current.reshape(1, -1)\n",
    "    prediction = model.predict(reshape_current)\n",
    "    predictions.append(prediction)"
   ],
   "id": "6dbaaf71003f5b52"
  },
  {
   "metadata": {},
   "cell_type": "code",
   "outputs": [],
   "execution_count": null,
   "source": [
    "predictions.append(prediction)\n",
    "predictions_on_training = []\n",
    "for current in X_train:\n",
    "    reshape_current = current.reshape(1, -1)\n",
    "    prediction = model.predict(reshape_current)\n",
    "    predictions_on_training.append(prediction)"
   ],
   "id": "8852b46ef5e7c552"
  },
  {
   "metadata": {},
   "cell_type": "code",
   "outputs": [],
   "execution_count": null,
   "source": [
    "import matplotlib.pyplot as plt\n",
    "from scipy.stats import pearsonr\n",
    "predictions_list = [item[0][0] for item in predictions]\n",
    "predictions_list_divided_by_two = [item[0][0]/2.0 for item in predictions]\n",
    "\n",
    "prediction_on_training_list = [item[0][0] for item in predictions_on_training]\n",
    "true_values_list = y_test.tolist()\n",
    "true_values_list = y_test.tolist()\n",
    "true_values_on_training_list = y_train.tolist()\n",
    "all_sensitivities = y.tolist()\n",
    "\n",
    "r, p_value = pearsonr(true_values_list, predictions_list)\n",
    "plt.title(f'Scatter Plot with R={r:.2f}')\n",
    "plt.scatter(true_values_list, predictions_list)\n",
    "plt.show()\n",
    "\n",
    "\n",
    "plt.hist(true_values_list, bins=5, color='skyblue', edgecolor='black')\n",
    "plt.title(\"True values distribution\")\n",
    "plt.show()\n",
    "\n",
    "plt.hist(predictions_list, bins=5, color='skyblue', edgecolor='black')\n",
    "plt.title(\"Prediction distribution\")\n",
    "plt.show()\n",
    "\n",
    "plt.hist(true_values_on_training_list, bins=5, color='skyblue', edgecolor='black')\n",
    "plt.title(\"True values on training distribution\")\n",
    "plt.show()\n",
    "\n",
    "\n",
    "plt.hist(prediction_on_training_list, bins=5, color='skyblue', edgecolor='black')\n",
    "plt.title(\"Prediction on training distribution\")\n",
    "plt.show()\n",
    "\n",
    "\n",
    "plt.hist(all_sensitivities, bins=5, color='skyblue', edgecolor='black')\n",
    "plt.title(\"True All sensitivities distribution\")\n",
    "plt.show()"
   ],
   "id": "78c963a905af9846"
  },
  {
   "metadata": {},
   "cell_type": "code",
   "outputs": [],
   "execution_count": null,
   "source": [
    "plt.hist(y_train, bins=20, edgecolor='black')\n",
    "plt.title('Histogram of training data')\n",
    "plt.xlabel('Value')\n",
    "plt.ylabel('Frequency')\n",
    "plt.show()\n"
   ],
   "id": "27140d771ac78aa3"
  },
  {
   "metadata": {},
   "cell_type": "code",
   "outputs": [],
   "execution_count": null,
   "source": [
    "plt.hist(y_test, bins=20, edgecolor='black')\n",
    "plt.title('Histogram of test data')\n",
    "plt.xlabel('Value')\n",
    "plt.ylabel('Frequency')\n",
    "plt.show()\n"
   ],
   "id": "a3402b76fb123c5f"
  }
 ],
 "metadata": {
  "kernelspec": {
   "display_name": "Python 3",
   "language": "python",
   "name": "python3"
  },
  "language_info": {
   "codemirror_mode": {
    "name": "ipython",
    "version": 2
   },
   "file_extension": ".py",
   "mimetype": "text/x-python",
   "name": "python",
   "nbconvert_exporter": "python",
   "pygments_lexer": "ipython2",
   "version": "2.7.6"
  }
 },
 "nbformat": 4,
 "nbformat_minor": 5
}
